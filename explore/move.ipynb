{
 "cells": [
  {
   "cell_type": "code",
   "execution_count": 3,
   "id": "6ebd4862",
   "metadata": {},
   "outputs": [
    {
     "name": "stdout",
     "output_type": "stream",
     "text": [
      "✅ Data inserted successfully.\n",
      "✅ Data inserted successfully.\n",
      "✅ Data inserted successfully.\n",
      "✅ Data inserted successfully.\n",
      "✅ Data inserted successfully.\n",
      "✅ Data inserted successfully.\n",
      "✅ Data inserted successfully.\n",
      "✅ Data inserted successfully.\n",
      "✅ Data inserted successfully.\n",
      "✅ Data inserted successfully.\n",
      "✅ Data inserted successfully.\n",
      "✅ Data inserted successfully.\n",
      "✅ Data inserted successfully.\n",
      "✅ Data inserted successfully.\n",
      "✅ Data inserted successfully.\n",
      "✅ Data inserted successfully.\n",
      "✅ Data inserted successfully.\n",
      "✅ Data inserted successfully.\n",
      "✅ Data inserted successfully.\n",
      "✅ Data inserted successfully.\n"
     ]
    }
   ],
   "source": [
    "import psycopg2\n",
    "import pandas as pd\n",
    "import os\n",
    "\n",
    "# === Config ===\n",
    "DB_NAME = \"camping\"\n",
    "DB_USER = \"arrowboy\"\n",
    "\n",
    "for file in os.listdir(\"data\"): \n",
    "    # === Load CSV ===\n",
    "    df = pd.read_csv(f'data/{file}')\n",
    "\n",
    "    # Replace NaNs with None (so psycopg2 sends NULL to SQL)\n",
    "    df = df.where(pd.notnull(df), None)\n",
    "\n",
    "    try:\n",
    "        conn = psycopg2.connect(dbname=DB_NAME, user=DB_USER)\n",
    "        cur = conn.cursor()\n",
    "\n",
    "        for _, row in df.iterrows():\n",
    "            # === Insert into campsites ===\n",
    "            cur.execute(\"\"\"\n",
    "                INSERT INTO campsites (\n",
    "                    name, latitude, longitude, address, managing_unit,\n",
    "                    reservation_type, fs_usda_url, reservation_url,\n",
    "                    contact_name, contact_phone, seasons_of_use,\n",
    "                    num_sites, fee, overview, site_url\n",
    "                ) VALUES (%s, %s, %s, %s, %s, %s, %s, %s, %s, %s, %s, %s, %s, %s, %s)\n",
    "                RETURNING id;\n",
    "            \"\"\", (\n",
    "                row['site_name'],\n",
    "                row['latitude'],\n",
    "                row['longitude'],\n",
    "                row['directions'],\n",
    "                row['info_center'],\n",
    "                None,                     # reservation_type\n",
    "                row['park_url'],\n",
    "                None,                     # reservation_url\n",
    "                row['info_center'],       # contact_name from info_center\n",
    "                row['contact_info'],\n",
    "                row['season_of_use'],\n",
    "                None,                     # num_sites\n",
    "                row['fee_info'],\n",
    "                row['overview'],\n",
    "                row['site_url']\n",
    "            ))\n",
    "\n",
    "            campsite_id = cur.fetchone()[0]  # Get the inserted row's ID\n",
    "\n",
    "            # === Insert into amenities ===\n",
    "            cur.execute(\"\"\"\n",
    "                INSERT INTO amenities (\n",
    "                    campsite_id, body_of_water,\n",
    "                    restrooms, water, amenities_raw\n",
    "                ) VALUES (%s, %s, %s, %s, %s);\n",
    "            \"\"\", (\n",
    "                campsite_id,\n",
    "                row['body_of_water'],  # assumed boolean True/False\n",
    "                None,\n",
    "                row['body_of_water'],\n",
    "                row['amenities']\n",
    "            ))\n",
    "\n",
    "        conn.commit()\n",
    "        print(\"✅ Data inserted successfully.\")\n",
    "\n",
    "    except Exception as e:\n",
    "        print(\"❌ Error inserting data:\", e)\n",
    "        if conn:\n",
    "            conn.rollback()\n",
    "\n",
    "    finally:\n",
    "        if cur:\n",
    "            cur.close()\n",
    "        if conn:\n",
    "            conn.close()"
   ]
  },
  {
   "cell_type": "code",
   "execution_count": 10,
   "id": "80731330",
   "metadata": {},
   "outputs": [
    {
     "name": "stdout",
     "output_type": "stream",
     "text": [
      "https://www.fs.usda.gov/r05/klamath/recreation/big-flat-trailhead\n"
     ]
    },
    {
     "name": "stderr",
     "output_type": "stream",
     "text": [
      "/tmp/ipykernel_20195/3013866845.py:5: UserWarning: pandas only supports SQLAlchemy connectable (engine/connection) or database string URI or sqlite3 DBAPI2 connection. Other DBAPI2 objects are not tested. Please consider using SQLAlchemy.\n",
      "  df = pd.read_sql_query(\"SELECT * FROM campsites\", conn)\n"
     ]
    }
   ],
   "source": [
    "import psycopg2\n",
    "import pandas as pd\n",
    "\n",
    "conn = psycopg2.connect(dbname=\"camping\", user=\"arrowboy\")\n",
    "df = pd.read_sql_query(\"SELECT * FROM campsites\", conn)\n",
    "\n",
    "conn.close()\n",
    "df.head()\n",
    "print(df['site_url'][0])"
   ]
  }
 ],
 "metadata": {
  "kernelspec": {
   "display_name": ".venv",
   "language": "python",
   "name": "python3"
  },
  "language_info": {
   "codemirror_mode": {
    "name": "ipython",
    "version": 3
   },
   "file_extension": ".py",
   "mimetype": "text/x-python",
   "name": "python",
   "nbconvert_exporter": "python",
   "pygments_lexer": "ipython3",
   "version": "3.13.7"
  }
 },
 "nbformat": 4,
 "nbformat_minor": 5
}
