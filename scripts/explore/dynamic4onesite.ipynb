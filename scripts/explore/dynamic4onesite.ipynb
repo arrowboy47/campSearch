{
 "cells": [
  {
   "cell_type": "code",
   "execution_count": 44,
   "id": "c870004f",
   "metadata": {},
   "outputs": [
    {
     "name": "stdout",
     "output_type": "stream",
     "text": [
      "Updating campsite ID: 1\n"
     ]
    }
   ],
   "source": [
    "# check for if info has been updated in the past 24 hours\n",
    "# want to get info for a single campsite\n",
    "\n",
    "\"\"\" \n",
    "need to populate in db: \n",
    "-> status_updates: is_open, last_checked, fire_restrictions, last_updated_site\n",
    "-> weather_forecasts: forecast_json (jsonb), last_updated\n",
    "\"\"\"\n",
    "import argparse\n",
    "import requests\n",
    "import json\n",
    "from datetime import datetime, timedelta\n",
    "from bs4 import BeautifulSoup\n",
    "import psycopg2\n",
    "import pandas as pd\n",
    "import os\n",
    "import re\n",
    "\n",
    "\n",
    "# Set up argument parser\n",
    "#parser = argparse.ArgumentParser(description=\"Update dynamic data for a single campsite.\")\n",
    "#parser.add_argument(\"campsite_id\", type=int, help=\"The ID of the campsite to update\")\n",
    "\n",
    "#args = parser.parse_args()\n",
    "#campsite_id = args.campsite_id\n",
    "campsite_id = 1\n",
    "\n",
    "print(f\"Updating campsite ID: {campsite_id}\")"
   ]
  },
  {
   "cell_type": "code",
   "execution_count": 50,
   "id": "6f51b0d2",
   "metadata": {},
   "outputs": [],
   "source": [
    "# now getting the campsite site_url from the database using the id\n",
    "# link to the database\n",
    "conn = psycopg2.connect(dbname=\"camping\", user=\"arrowboy\")\n",
    "cur = conn.cursor()\n",
    "\n",
    "# Fetch the site_url for the given campsite_id\n",
    "cur.execute(\"SELECT site_url, latitude, longitude FROM campsites WHERE id = %s;\", (campsite_id,))\n",
    "result = cur.fetchone()\n",
    "site_url, latitude, longitude = result\n",
    "\n",
    "# soup parser\n",
    "r = requests.get(site_url)  \n",
    "soup = BeautifulSoup(r.text, \"html.parser\")"
   ]
  },
  {
   "cell_type": "markdown",
   "id": "60b1717d",
   "metadata": {},
   "source": [
    "## getting is_open, last_upadted_site, last_updated, and fire_restrictions "
   ]
  },
  {
   "cell_type": "code",
   "execution_count": 49,
   "id": "b6115bea",
   "metadata": {},
   "outputs": [
    {
     "name": "stdout",
     "output_type": "stream",
     "text": [
      "is_open: True\n",
      "last_updated_site: 2025-07-08 00:00:00\n",
      "last_updated: 2025-09-08 23:40:55.029887\n",
      "{'cod': 401, 'message': 'Please note that using One Call 3.0 requires a separate subscription to the One Call by Call plan. Learn more here https://openweathermap.org/price. If you have a valid subscription to the One Call by Call plan, but still receive this error, then please see https://openweathermap.org/faq#error401 for more info.'}\n"
     ]
    }
   ],
   "source": [
    "# getting containing div for is_open\n",
    "div = soup.find(\"div\", class_=\"status__heading text-bold\")\n",
    "if div:\n",
    "    is_open = div.get_text(strip=True)\n",
    "    if is_open == \"Site Open\":\n",
    "        is_open = True\n",
    "    else:\n",
    "        is_open = False\n",
    "else:\n",
    "    is_open = None\n",
    "\n",
    "# get the last_updated_site\n",
    "# containing div\n",
    "div = soup.find(\"div\", class_=\"page__last-modified grid-container display-flex flex-justify-end\")\n",
    "if div:\n",
    "    # extract the text\n",
    "    last_updated_site = div.get_text(strip=True)\n",
    "    # remove the \"Last updated\" text\n",
    "    last_updated_site = last_updated_site.replace(\"Last updated\", \"\").strip()\n",
    "    # datetime convert\n",
    "    # Remove 'st', 'nd', 'rd', 'th' from the day\n",
    "    last_updated_site = re.sub(r'(\\d{1,2})(st|nd|rd|th)', r'\\1', last_updated_site)\n",
    "    last_updated_site = datetime.strptime(last_updated_site, \"%B %d, %Y\")\n",
    "else:\n",
    "    last_updated_site = None\n",
    "    \n",
    "# last_updated = today with hours\n",
    "last_updated = datetime.now()\n",
    "\n",
    "# getting fire restrictions status\n",
    "\n",
    "print(f\"is_open: {is_open}\")\n",
    "print(f\"last_updated_site: {last_updated_site}\")\n",
    "print(f\"last_updated: {last_updated}\")\n",
    "\n",
    "# getting weather from openweather and lat long \n",
    "api_key = \"7c61c03997ee3bf70f5e685ca593254d\"\n",
    "url = f\"https://api.openweathermap.org/data/3.0/onecall?lat={latitude}&lon={longitude}&appid={api_key}&exclude=minutely&units=imperial\"\n",
    "r = requests.get(url)\n",
    "forecast_json= r.json() \n",
    "print(forecast_json)\n"
   ]
  },
  {
   "cell_type": "code",
   "execution_count": null,
   "id": "62e51aed",
   "metadata": {},
   "outputs": [],
   "source": []
  }
 ],
 "metadata": {
  "kernelspec": {
   "display_name": ".venv",
   "language": "python",
   "name": "python3"
  },
  "language_info": {
   "codemirror_mode": {
    "name": "ipython",
    "version": 3
   },
   "file_extension": ".py",
   "mimetype": "text/x-python",
   "name": "python",
   "nbconvert_exporter": "python",
   "pygments_lexer": "ipython3",
   "version": "3.13.7"
  }
 },
 "nbformat": 4,
 "nbformat_minor": 5
}
