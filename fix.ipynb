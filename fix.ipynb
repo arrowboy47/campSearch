{
 "cells": [
  {
   "cell_type": "code",
   "execution_count": null,
   "id": "98a0113c",
   "metadata": {},
   "outputs": [],
   "source": [
    "# import data\n",
    "r05_urls = [\n",
    "    \"r05/angeles\",\n",
    "    \"r05/klamath\", \n",
    "    \"r05/cleveland\",\n",
    "    \"r05/eldorado\",\n",
    "    \"r05/sequoia\",\n",
    "    \"r05/inyo\",\n",
    "    \"r05/klamath\",\n",
    "    \"r05/laketahoebasin\",\n",
    "    \"r05/lassen\",\n",
    "    \"r05/lospadres\",\n",
    "    \"r05/mendocino\",\n",
    "    \"r05/modoc\",\n",
    "    \"r05/plumas\",\n",
    "    \"r05/sanbernardino\",\n",
    "    \"r05/shasta-trinity\",\n",
    "    \"r05/sierra\",\n",
    "    \"r05/sixrivers\",\n",
    "    \"r05/stanislaus\",\n",
    "    \"r05/tahoe\"\n",
    "]\n",
    "\n",
    "r04_urls = [\n",
    "    \"r04/humboldt-toiyabe\"\n",
    "]\n",
    "\n",
    "r06_urls = [\n",
    "    \"r06/rogue-siskiyou\"\n",
    "]\n",
    "all_urls = r05_urls + r04_urls + r06_urls\n",
    "\n",
    "names = []\n",
    "half = len(all_urls) // 2\n",
    "for i, url in enumerate(all_urls[:half]):\n",
    "    names[i] = all_urls[i].split(\"/\")[-1]\n",
    "    \n"
   ]
  }
 ],
 "metadata": {
  "language_info": {
   "name": "python"
  }
 },
 "nbformat": 4,
 "nbformat_minor": 5
}
